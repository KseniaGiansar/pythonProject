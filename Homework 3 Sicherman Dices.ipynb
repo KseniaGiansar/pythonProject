{
 "cells": [
  {
   "cell_type": "code",
   "execution_count": 11,
   "id": "b1c7da91",
   "metadata": {},
   "outputs": [],
   "source": [
    "import numpy as np\n",
    "from math import factorial\n",
    "import random\n",
    "import itertools"
   ]
  },
  {
   "cell_type": "code",
   "execution_count": 13,
   "id": "5c6cafd0",
   "metadata": {},
   "outputs": [
    {
     "name": "stdout",
     "output_type": "stream",
     "text": [
      "Sichemarn dices are:\n",
      "[1, 2, 2, 3, 3, 4]\n",
      "[1, 3, 4, 5, 6, 8]\n"
     ]
    }
   ],
   "source": [
    "standard_dice = sorted(list(range(1, 7)))\n",
    "sums_standard_dice = sorted(list(a + b for a in standard_dice for b in standard_dice))\n",
    "used_combinations = list()\n",
    "max_value = 10\n",
    "\n",
    "max_iterations = 10 ** 10\n",
    "\n",
    "for i in range(max_iterations):\n",
    "    new_d1 = [1]\n",
    "    new_d2 = [1]\n",
    "    while len(new_d1) < 6 and len(new_d2) < 6:\n",
    "        new_d1.append(random.randint(2, max_value))\n",
    "        new_d2.append(random.randint(2, max_value))\n",
    "\n",
    "    new_d1.sort()\n",
    "    new_d2.sort()\n",
    "\n",
    "    if new_d1 == standard_dice or new_d2 == standard_dice or max(new_d1) + max(new_d2) > 12:\n",
    "        continue\n",
    "\n",
    "    if [new_d1, new_d2] in used_combinations or [new_d2, new_d1] in used_combinations:\n",
    "        continue\n",
    "\n",
    "    sums_new_dice = sorted(list(a + b for a in new_d1 for b in new_d2))\n",
    "\n",
    "    if sums_standard_dice == sums_new_dice:\n",
    "        print(\"Sichemarn dices are:\\n\" + new_d1.__str__() + \"\\n\" + new_d2.__str__())\n",
    "        break\n",
    "\n",
    " #   used_combinations.append([new_dice1, new_dice2])"
   ]
  },
  {
   "cell_type": "code",
   "execution_count": 14,
   "id": "0b74432c",
   "metadata": {},
   "outputs": [],
   "source": [
    "# Sicherman dices distribution check\n",
    "\n",
    "dice_1 = []\n",
    "dice_2 = []\n",
    "sums = []\n",
    "n = 100000\n",
    "for _ in range(n):\n",
    "  roll_1 = np.random.choice(new_d1)\n",
    "  roll_2 = np.random.choice(new_d2)\n",
    "  dice_1.append(roll_1)\n",
    "  dice_2.append(roll_2)\n",
    "  sums.append(roll_1 + roll_2)"
   ]
  },
  {
   "cell_type": "code",
   "execution_count": 15,
   "id": "140791a0",
   "metadata": {},
   "outputs": [
    {
     "name": "stdout",
     "output_type": "stream",
     "text": [
      "Counter({7: 16480, 6: 14071, 8: 13727, 9: 11312, 5: 11010, 10: 8324, 4: 8247, 3: 5654, 11: 5614, 2: 2798, 12: 2763})\n"
     ]
    }
   ],
   "source": [
    "from collections import Counter\n",
    "a = Counter(sums)\n",
    "print(a)"
   ]
  },
  {
   "cell_type": "code",
   "execution_count": 16,
   "id": "3bae802f",
   "metadata": {},
   "outputs": [],
   "source": [
    "names = list(a.keys())\n",
    "values = list(a.values())"
   ]
  },
  {
   "cell_type": "code",
   "execution_count": 17,
   "id": "42e76fcc",
   "metadata": {},
   "outputs": [
    {
     "data": {
      "image/png": "[encoded data removed]",
      "text/plain": [
       "<Figure size 432x288 with 1 Axes>"
      ]
     },
     "metadata": {
      "needs_background": "light"
     },
     "output_type": "display_data"
    }
   ],
   "source": [
    "import matplotlib.pyplot as plt\n",
    "\n",
    "plt.bar(names, values)\n",
    "plt.xlabel(\"sum frequency\")\n",
    "plt.show()"
   ]
  },
  {
   "cell_type": "code",
   "execution_count": null,
   "id": "9277d39b",
   "metadata": {},
   "outputs": [],
   "source": []
  }
 ],
 "metadata": {
  "kernelspec": {
   "display_name": "Python 3 (ipykernel)",
   "language": "python",
   "name": "python3"
  },
  "language_info": {
   "codemirror_mode": {
    "name": "ipython",
    "version": 3
   },
   "file_extension": ".py",
   "mimetype": "text/x-python",
   "name": "python",
   "nbconvert_exporter": "python",
   "pygments_lexer": "ipython3",
   "version": "3.9.7"
  }
 },
 "nbformat": 4,
 "nbformat_minor": 5
}
