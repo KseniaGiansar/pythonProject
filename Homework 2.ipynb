{
 "cells": [
  {
   "cell_type": "code",
   "execution_count": 8,
   "id": "debac99e",
   "metadata": {
    "scrolled": true
   },
   "outputs": [],
   "source": [
    "from io import StringIO\n",
    "import matplotlib.ticker as mticker\n",
    "import pandas as pd\n",
    "from matplotlib import pyplot as plt\n",
    "\n",
    "data = StringIO(\"\"\"\n",
    "problem,language,time,size\n",
    "n-body,c,2.13,1633\n",
    "mandelbrot,c,1.3,1135\n",
    "spectral norm,c,0.41,1197\n",
    "fannkuch-redux,c,7.58,910\n",
    "fasta,c,0.78,1463\n",
    "k-nucleotide,c,3.96,1506\n",
    "binary-trees,c,1.58,809\n",
    "reverse-complement,c,0.41,1965\n",
    "pidigits,c,0.56,1090\n",
    "regex-redux,c,0.8,1397\n",
    "n-body,Java,6.77,1489\n",
    "mandelbrot,Java,4.1,796\n",
    "spectral norm,Java,1.55,756\n",
    "fannkuch-redux,Java,10.48,1282\n",
    "fasta,Java,1.2,2543\n",
    "k-nucleotide,Java,4.83,1812\n",
    "binary-trees,Java,2.51,835\n",
    "reverse-complement,Java,1.57,2183\n",
    "pidigits,Java,0.79,764\n",
    "regex-redux,Java,5.34,929\n",
    "n-body,python,541.34,1196\n",
    "mandelbrot,python,177.35,688\n",
    "spectral norm,python,112.97,407\n",
    "fannkuch-redux,python,341.45,950\n",
    "fasta,python,36.9,1947\n",
    "k-nucleotide,python,46.31,1967\n",
    "binary-trees,python,44.7,660\n",
    "reverse-complement,python,6.62,814\n",
    "pidigits,python,1.16,567\n",
    "regex-redux,python,1.34,1403\n",
    "n-body,julia,4.21,1111\n",
    "mandelbrot,julia,1.42,619\n",
    "spectral norm,julia,1.11,429\n",
    "fannkuch-redux,julia,7.83,1067\n",
    "fasta,julia,1.13,1082\n",
    "k-nucleotide,julia,4.94,951\n",
    "binary-trees,julia,7.28,634\n",
    "reverse-complement,julia,1.44,522\n",
    "pidigits,julia,0.97,506\n",
    "regex-redux,julia,1.74,759\n",
    "\"\"\")\n"
   ]
  },
  {
   "cell_type": "code",
   "execution_count": 9,
   "id": "efc8db8e",
   "metadata": {},
   "outputs": [
    {
     "name": "stdout",
     "output_type": "stream",
     "text": [
      "               problem language    time  size\n",
      "0               n-body        c    2.13  1633\n",
      "1           mandelbrot        c    1.30  1135\n",
      "2        spectral norm        c    0.41  1197\n",
      "3       fannkuch-redux        c    7.58   910\n",
      "4                fasta        c    0.78  1463\n",
      "5         k-nucleotide        c    3.96  1506\n",
      "6         binary-trees        c    1.58   809\n",
      "7   reverse-complement        c    0.41  1965\n",
      "8             pidigits        c    0.56  1090\n",
      "9          regex-redux        c    0.80  1397\n",
      "10              n-body     Java    6.77  1489\n",
      "11          mandelbrot     Java    4.10   796\n",
      "12       spectral norm     Java    1.55   756\n",
      "13      fannkuch-redux     Java   10.48  1282\n",
      "14               fasta     Java    1.20  2543\n",
      "15        k-nucleotide     Java    4.83  1812\n",
      "16        binary-trees     Java    2.51   835\n",
      "17  reverse-complement     Java    1.57  2183\n",
      "18            pidigits     Java    0.79   764\n",
      "19         regex-redux     Java    5.34   929\n",
      "20              n-body   python  541.34  1196\n",
      "21          mandelbrot   python  177.35   688\n",
      "22       spectral norm   python  112.97   407\n",
      "23      fannkuch-redux   python  341.45   950\n",
      "24               fasta   python   36.90  1947\n",
      "25        k-nucleotide   python   46.31  1967\n",
      "26        binary-trees   python   44.70   660\n",
      "27  reverse-complement   python    6.62   814\n",
      "28            pidigits   python    1.16   567\n",
      "29         regex-redux   python    1.34  1403\n",
      "30              n-body    julia    4.21  1111\n",
      "31          mandelbrot    julia    1.42   619\n",
      "32       spectral norm    julia    1.11   429\n",
      "33      fannkuch-redux    julia    7.83  1067\n",
      "34               fasta    julia    1.13  1082\n",
      "35        k-nucleotide    julia    4.94   951\n",
      "36        binary-trees    julia    7.28   634\n",
      "37  reverse-complement    julia    1.44   522\n",
      "38            pidigits    julia    0.97   506\n",
      "39         regex-redux    julia    1.74   759\n"
     ]
    },
    {
     "data": {
      "text/plain": [
       "<matplotlib.collections.PathCollection at 0x2dba65de580>"
      ]
     },
     "execution_count": 9,
     "metadata": {},
     "output_type": "execute_result"
    },
    {
     "data": {
      "image/png": "[encoded data removed]",
      "text/plain": [
       "<Figure size 432x288 with 2 Axes>"
      ]
     },
     "metadata": {
      "needs_background": "light"
     },
     "output_type": "display_data"
    }
   ],
   "source": [
    "df = pd.read_csv(data)\n",
    "df_c = df[df[\"language\"] == \"c\"].copy()\n",
    "print(df.to_string())\n",
    "shape_dict = {\"c\": \".\", \"Java\": \"s\", \"python\": \"D\", \"julia\": \"o\"}\n",
    "fig, ax = plt.subplots(nrows=1, ncols=2)\n",
    "ax[0].scatter(df[\"problem\"],df[\"time\"])\n",
    "ax[1].scatter(df[\"problem\"],df[\"size\"])"
   ]
  },
  {
   "cell_type": "code",
   "execution_count": 10,
   "id": "640a1aa3",
   "metadata": {},
   "outputs": [
    {
     "data": {
      "text/plain": [
       "Text(179.44318181818178, 0.5, 'code size (relative to C)')"
      ]
     },
     "execution_count": 10,
     "metadata": {},
     "output_type": "execute_result"
    }
   ],
   "source": [
    "for lang in df[\"language\"].unique():\n",
    "    df_to_plot = df[df[\"language\"] == lang].copy()\n",
    "    df_to_plot[\"time\"] = df_to_plot[\"time\"].to_numpy() / df_c[\"time\"].to_numpy()\n",
    "    df_to_plot[\"size\"] = df_to_plot[\"size\"].to_numpy() / df_c[\"size\"].to_numpy()\n",
    "    color = \"gold\" if lang == \"julia\" or lang == \"c\" else \"grey\"\n",
    "\n",
    "    if (lang == \"c\"):\n",
    "        ax[0].plot(df_to_plot[\"problem\"], df_to_plot[\"time\"], color=color, label=lang)\n",
    "        ax[1].plot(df_to_plot[\"problem\"].astype('str'), df_to_plot[\"size\"], color=color, label=lang)\n",
    "    else:\n",
    "        ax[0].scatter(df_to_plot[\"problem\"], df_to_plot[\"time\"], marker=shape_dict[lang], color=color, label=lang)\n",
    "        ax[1].scatter(df_to_plot[\"problem\"], df_to_plot[\"size\"], marker=shape_dict[lang], color=color, label=lang)\n",
    "\n",
    "ax[0].set_yscale(\"log\")\n",
    "ax[0].set_ylabel(\"execution time (relative to C)\")\n",
    "ax[1].set_ylabel(\"code size (relative to C)\")"
   ]
  },
  {
   "cell_type": "code",
   "execution_count": 11,
   "id": "21554b90",
   "metadata": {},
   "outputs": [],
   "source": [
    "fontDict = {'horizontalalignment': \"right\"}\n",
    "for axis in ax:\n",
    "    ticks_loc = axis.get_xticks()\n",
    "    axis.xaxis.set_major_locator(mticker.FixedLocator(locs=list(range(10))))\n",
    "    axis.set_xticklabels(labels=df_to_plot[\"problem\"], rotation=45, fontsize=8, fontdict=fontDict)\n",
    "\n"
   ]
  },
  {
   "cell_type": "code",
   "execution_count": 12,
   "id": "e083390c",
   "metadata": {},
   "outputs": [
    {
     "data": {
      "text/plain": [
       "<Figure size 432x288 with 0 Axes>"
      ]
     },
     "metadata": {},
     "output_type": "display_data"
    }
   ],
   "source": [
    "# plt.legend()\n",
    "for axis in ax: axis.legend()\n",
    "plt.tight_layout()\n",
    "plt.show()"
   ]
  },
  {
   "cell_type": "code",
   "execution_count": null,
   "id": "94bf9392",
   "metadata": {},
   "outputs": [],
   "source": []
  },
  {
   "cell_type": "code",
   "execution_count": null,
   "id": "f74d1f67",
   "metadata": {},
   "outputs": [],
   "source": []
  },
  {
   "cell_type": "code",
   "execution_count": null,
   "id": "330bb32d",
   "metadata": {},
   "outputs": [],
   "source": []
  }
 ],
 "metadata": {
  "kernelspec": {
   "display_name": "Python 3 (ipykernel)",
   "language": "python",
   "name": "python3"
  },
  "language_info": {
   "codemirror_mode": {
    "name": "ipython",
    "version": 3
   },
   "file_extension": ".py",
   "mimetype": "text/x-python",
   "name": "python",
   "nbconvert_exporter": "python",
   "pygments_lexer": "ipython3",
   "version": "3.9.7"
  }
 },
 "nbformat": 4,
 "nbformat_minor": 5
}
