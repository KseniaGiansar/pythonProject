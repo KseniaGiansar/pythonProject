{
 "cells": [
  {
   "cell_type": "code",
   "execution_count": 1,
   "id": "4a8eb091",
   "metadata": {},
   "outputs": [],
   "source": [
    "import numpy as np\n",
    "import random\n",
    "import pandas as pd\n",
    "import statsmodels.api as sm\n",
    "import statistics\n",
    "import time"
   ]
  },
  {
   "cell_type": "code",
   "execution_count": 2,
   "id": "243ccf50",
   "metadata": {},
   "outputs": [
    {
     "name": "stdout",
     "output_type": "stream",
     "text": [
      "1000\n",
      "[10, 20, 30, 40, 50, 60, 70, 80, 90, 100, 110, 120, 130, 140, 150, 160, 170, 180, 190]\n"
     ]
    }
   ],
   "source": [
    "sizes = np.arange(10, 200, 10)\n",
    "reps = 1000\n",
    "print(reps)\n",
    "sizes = list(sizes)\n",
    "print(sizes)"
   ]
  },
  {
   "cell_type": "code",
   "execution_count": 3,
   "id": "6118f054",
   "metadata": {},
   "outputs": [
    {
     "name": "stdout",
     "output_type": "stream",
     "text": [
      "0.48534724229313186\n"
     ]
    }
   ],
   "source": [
    "# r-square function\n",
    "\n",
    "def sim_r_sq(n):\n",
    "    x = np.random.normal(0, 1, n)\n",
    "    y = [1 + np.random.normal() + v for v in x]\n",
    "    #add intercept to x\n",
    "    x = sm.add_constant(x)\n",
    "    #statsmodels ordinary linear regression\n",
    "    model = sm.OLS(y, x)\n",
    "    results = model.fit()\n",
    "    return results.rsquared\n",
    "print(sim_r_sq(100))"
   ]
  },
  {
   "cell_type": "code",
   "execution_count": 5,
   "id": "0f66f00f",
   "metadata": {},
   "outputs": [
    {
     "name": "stdout",
     "output_type": "stream",
     "text": [
      "0.3717176914215088\n",
      "0.4084303379058838\n",
      "0.3973820209503174\n",
      "0.43928003311157227\n",
      "0.4609980583190918\n",
      "0.5583715438842773\n",
      "0.7648491859436035\n",
      "0.8674585819244385\n",
      "0.9215974807739258\n",
      "1.0814909934997559\n",
      "0.9946188926696777\n",
      "0.8392093181610107\n",
      "1.1187989711761475\n",
      "0.979550838470459\n",
      "1.0495333671569824\n",
      "1.0770502090454102\n",
      "1.1579296588897705\n",
      "1.0724432468414307\n",
      "1.4738428592681885\n"
     ]
    }
   ],
   "source": [
    "res = []\n",
    "for size in sizes:\n",
    "    start_time = time.time()\n",
    "    res.append([sim_r_sq(size) for i in range(1, reps)])\n",
    "    end_time = time.time()\n",
    "    run_time = end_time-start_time\n",
    "    print(run_time)    \n"
   ]
  },
  {
   "cell_type": "code",
   "execution_count": 6,
   "id": "f4505b39",
   "metadata": {},
   "outputs": [],
   "source": [
    "r_sq_q95 = [] \n",
    "r_sq_q5 = []\n",
    "r_sq_mean = []"
   ]
  },
  {
   "cell_type": "code",
   "execution_count": 7,
   "id": "6a78766f",
   "metadata": {},
   "outputs": [],
   "source": [
    "#flat_res = [item for sublist in res for item in sublist]\n",
    "# number of vars in each list must be equal to range(sizes)\n",
    "\n",
    "for sublist in res:\n",
    "    r_sq_mean.append(statistics.mean(sublist))\n",
    "    r_sq_q95.append(np.quantile(sublist, 0.95))\n",
    "    r_sq_q5.append(np.quantile(sublist, 0.05))"
   ]
  },
  {
   "cell_type": "code",
   "execution_count": 8,
   "id": "b8429e9d",
   "metadata": {},
   "outputs": [
    {
     "data": {
      "image/png": "[encoded data removed]",
      "text/plain": [
       "<Figure size 432x288 with 1 Axes>"
      ]
     },
     "metadata": {
      "needs_background": "light"
     },
     "output_type": "display_data"
    }
   ],
   "source": [
    "import matplotlib.pyplot as plt\n",
    "\n",
    "plt.scatter(sizes, r_sq_mean)\n",
    "plt.plot(sizes, r_sq_q95)\n",
    "plt.plot(sizes, r_sq_q5)\n",
    "plt.xlabel(\"sample size\")\n",
    "plt.ylabel(\"R squared\")\n",
    "plt.show()"
   ]
  },
  {
   "cell_type": "code",
   "execution_count": null,
   "id": "b3f60261",
   "metadata": {},
   "outputs": [],
   "source": []
  }
 ],
 "metadata": {
  "kernelspec": {
   "display_name": "Python 3 (ipykernel)",
   "language": "python",
   "name": "python3"
  },
  "language_info": {
   "codemirror_mode": {
    "name": "ipython",
    "version": 3
   },
   "file_extension": ".py",
   "mimetype": "text/x-python",
   "name": "python",
   "nbconvert_exporter": "python",
   "pygments_lexer": "ipython3",
   "version": "3.9.7"
  }
 },
 "nbformat": 4,
 "nbformat_minor": 5
}
