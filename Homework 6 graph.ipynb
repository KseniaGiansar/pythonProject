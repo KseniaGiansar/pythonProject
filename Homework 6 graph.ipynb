{
 "cells": [
  {
   "cell_type": "code",
   "execution_count": 8,
   "id": "3bc2635c",
   "metadata": {},
   "outputs": [],
   "source": [
    "import os\n",
    "import time\n",
    "from urllib.request import urlopen\n",
    "import zipfile\n",
    "import pandas as pd\n",
    "import networkx as nx"
   ]
  },
  {
   "cell_type": "code",
   "execution_count": 9,
   "id": "fb645dd9",
   "metadata": {},
   "outputs": [],
   "source": [
    "git_zip = \"git_web_ml.zip\"\n",
    "link = \"https://snap.stanford.edu/data/git_web_ml.zip\""
   ]
  },
  {
   "cell_type": "code",
   "execution_count": 14,
   "id": "0220f138",
   "metadata": {},
   "outputs": [
    {
     "name": "stdout",
     "output_type": "stream",
     "text": [
      "Unpacking zip file\n",
      "Unpacked\n"
     ]
    }
   ],
   "source": [
    "if not os.path.isfile(git_zip):\n",
    "    print(\"Downloading zip file...\")\n",
    "    with urlopen(link) as content, open(git_zip, \"wb\") as file:\n",
    "        file.write(content.read())\n",
    "if not os.path.isdir(git_zip):\n",
    "    print(\"Unpacking zip file\")\n",
    "    with zipfile.ZipFile(git_zip,'r') as zip:\n",
    "        zip.extractall(\"\")\n",
    "print(\"Unpacked\")"
   ]
  },
  {
   "cell_type": "code",
   "execution_count": 15,
   "id": "206af0b2",
   "metadata": {},
   "outputs": [
    {
     "name": "stdout",
     "output_type": "stream",
     "text": [
      "Reading csv\n",
      "Creating graph\n",
      "Excecution time of deg_class function\n"
     ]
    }
   ],
   "source": [
    "print(\"Reading csv\")\n",
    "edges_df = pd.read_csv(\"git_web_ml/musae_git_edges.csv\")\n",
    "classes_df = pd.read_csv(\"git_web_ml/musae_git_target.csv\")\n",
    "\n",
    "print(\"Creating graph\")\n",
    "graph = nx.Graph()\n",
    "graph.add_nodes_from(classes_df[\"id\"])\n",
    "for index, row in edges_df.iterrows():\n",
    "    graph.add_edge(row[\"id_1\"],row[\"id_2\"])\n",
    "\n",
    "print(\"Excecution time of deg_class function\")\n",
    "start_time = time.time()\n",
    "deg_ml = [0]*len(classes_df)\n",
    "deg_web = [0]*len(classes_df)\n",
    "ml_target = classes_df[\"ml_target\"].tolist()"
   ]
  },
  {
   "cell_type": "code",
   "execution_count": 16,
   "id": "af17fe77",
   "metadata": {},
   "outputs": [],
   "source": [
    "for edge in graph.edges():\n",
    "    edge_src, edge_dst = edge[0], edge[1]\n",
    "    if ml_target[edge_dst] == 1:\n",
    "        deg_ml[edge_src] = 1\n",
    "    else:\n",
    "        deg_web[edge_src] = 1\n",
    "\n",
    "    if ml_target[edge_src] == 1:\n",
    "        deg_ml[edge_dst] = 1\n",
    "    else:\n",
    "        deg_web[edge_dst] = 1"
   ]
  },
  {
   "cell_type": "code",
   "execution_count": 17,
   "id": "c81879e7",
   "metadata": {},
   "outputs": [
    {
     "name": "stdout",
     "output_type": "stream",
     "text": [
      "Excecution took 0.3191242218017578 seconds\n"
     ]
    }
   ],
   "source": [
    "print(\"Excecution took %s seconds\"%(time.time()-start_time))"
   ]
  },
  {
   "cell_type": "code",
   "execution_count": null,
   "id": "46a92d6c",
   "metadata": {},
   "outputs": [],
   "source": []
  }
 ],
 "metadata": {
  "kernelspec": {
   "display_name": "Python 3 (ipykernel)",
   "language": "python",
   "name": "python3"
  },
  "language_info": {
   "codemirror_mode": {
    "name": "ipython",
    "version": 3
   },
   "file_extension": ".py",
   "mimetype": "text/x-python",
   "name": "python",
   "nbconvert_exporter": "python",
   "pygments_lexer": "ipython3",
   "version": "3.9.7"
  }
 },
 "nbformat": 4,
 "nbformat_minor": 5
}
