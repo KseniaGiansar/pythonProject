{
 "cells": [
  {
   "cell_type": "code",
   "execution_count": 2,
   "id": "d98bb62a",
   "metadata": {},
   "outputs": [],
   "source": [
    "import bz2\n",
    "import os\n",
    "import pandas\n",
    "from urllib.request import urlopen"
   ]
  },
  {
   "cell_type": "code",
   "execution_count": 3,
   "id": "2666ae6a",
   "metadata": {},
   "outputs": [],
   "source": [
    "link = \"https://database.lichess.org/lichess_db_puzzle.csv.bz2\"\n",
    "filename = \"puzzles.csv.bz2\"\n",
    "header = [\"PuzzleId\", \"FEN\", \"Moves\",\n",
    "          \"Rating\", \"RatingDeviation\",\n",
    "          \"Popularity\", \"NbPlays\",\n",
    "          \"Themes\", \"GameUrl\"]"
   ]
  },
  {
   "cell_type": "code",
   "execution_count": 4,
   "id": "9a88f503",
   "metadata": {},
   "outputs": [],
   "source": [
    "decompressed_filename = \"puzzles.csv\""
   ]
  },
  {
   "cell_type": "code",
   "execution_count": 5,
   "id": "c014a139",
   "metadata": {},
   "outputs": [
    {
     "name": "stdout",
     "output_type": "stream",
     "text": [
      "File puzzles.csv.bz2 was already downloaded. Decompressing...\n",
      "File was already decompressed into puzzles.csv\n"
     ]
    }
   ],
   "source": [
    "if os.path.isfile(filename):\n",
    "    print(\"File {} was already downloaded. Decompressing...\".format(filename))\n",
    "\n",
    "else:\n",
    "    with urlopen(link) as content, open(filename, \"wb\") as file:\n",
    "        file.write(content.read())\n",
    "\n",
    "if(os.path.isfile(decompressed_filename)):\n",
    "    print(\"File was already decompressed into {}\".format(decompressed_filename))\n",
    "\n",
    "else:\n",
    "    with bz2.open(filename,\"rt\") as file, open(decompressed_filename,\"w\") as decompressed_file:\n",
    "        decompressed_file.write(file.read())\n",
    "    print(\"{} decompressed into {}!\".format(filename, decompressed_filename))"
   ]
  },
  {
   "cell_type": "code",
   "execution_count": 6,
   "id": "5bad6f49",
   "metadata": {},
   "outputs": [
    {
     "name": "stdout",
     "output_type": "stream",
     "text": [
      "  PuzzleId  \\\n",
      "0    00008   \n",
      "1    0000D   \n",
      "2    0009B   \n",
      "3    000aY   \n",
      "4    000hf   \n",
      "\n",
      "                                                                    FEN  \\\n",
      "0                  r6k/pp2r2p/4Rp1Q/3p4/8/1N1P2R1/PqP2bPP/7K b - - 0 24   \n",
      "1                  5rk1/1p3ppp/pq3b2/8/8/1P1Q1N2/P4PPP/3R2K1 w - - 2 27   \n",
      "2  r2qr1k1/b1p2ppp/pp4n1/P1P1p3/4P1n1/B2P2Pb/3NBP1P/RN1QR1K1 b - - 1 16   \n",
      "3        r4rk1/pp3ppp/2n1b3/q1pp2B1/8/P1Q2NP1/1PP1PP1P/2KR3R w - - 0 15   \n",
      "4       r1bqk2r/pp1nbNp1/2p1p2p/8/2BP4/1PN3P1/P3QP1P/3R1RK1 b kq - 0 19   \n",
      "\n",
      "                           Moves  Rating  RatingDeviation  Popularity  \\\n",
      "0  f2g3 e6e7 b2b1 b3c1 b1c1 h6c1    1867               75          96   \n",
      "1            d3d6 f8d8 d6d8 f6d8    1543               74          97   \n",
      "2            b6c5 e2g4 h3g4 d1g4    1088               75          85   \n",
      "3            g5e7 a5c3 b2c3 c6e7    1476               75          86   \n",
      "4            e8f7 e2e6 f7f8 e6f7    1595               77          88   \n",
      "\n",
      "   NbPlays                                 Themes  \\\n",
      "0     1863  crushing hangingPiece long middlegame   \n",
      "1    13041                advantage endgame short   \n",
      "2      505             advantage middlegame short   \n",
      "3      481      advantage master middlegame short   \n",
      "4      448          mate mateIn2 middlegame short   \n",
      "\n",
      "                                 GameUrl  \n",
      "0  https://lichess.org/787zsVup/black#48  \n",
      "1        https://lichess.org/F8M8OS71#53  \n",
      "2  https://lichess.org/4MWQCxQ6/black#32  \n",
      "3        https://lichess.org/iihZGl6t#29  \n",
      "4  https://lichess.org/71ygsFeE/black#38  \n"
     ]
    }
   ],
   "source": [
    "puzzles = pandas.read_csv(decompressed_filename,names=header)\n",
    "pandas.set_option('display.max_columns', None)\n",
    "pandas.set_option('display.width', None)\n",
    "pandas.set_option('display.max_colwidth', None)\n",
    "print(puzzles.head())"
   ]
  },
  {
   "cell_type": "code",
   "execution_count": null,
   "id": "cacd5108",
   "metadata": {},
   "outputs": [],
   "source": [
    "puzzles.to_csv(\"C:/Users/misha/Documents/puzzles.csv\")"
   ]
  },
  {
   "cell_type": "code",
   "execution_count": null,
   "id": "a9bed281",
   "metadata": {},
   "outputs": [],
   "source": []
  }
 ],
 "metadata": {
  "kernelspec": {
   "display_name": "Python 3 (ipykernel)",
   "language": "python",
   "name": "python3"
  },
  "language_info": {
   "codemirror_mode": {
    "name": "ipython",
    "version": 3
   },
   "file_extension": ".py",
   "mimetype": "text/x-python",
   "name": "python",
   "nbconvert_exporter": "python",
   "pygments_lexer": "ipython3",
   "version": "3.9.7"
  }
 },
 "nbformat": 4,
 "nbformat_minor": 5
}
